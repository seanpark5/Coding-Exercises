{
 "cells": [
  {
   "cell_type": "markdown",
   "metadata": {},
   "source": [
    "# Week 1 Lab"
   ]
  },
  {
   "cell_type": "code",
   "execution_count": 1,
   "metadata": {},
   "outputs": [
    {
     "name": "stdout",
     "output_type": "stream",
     "text": [
      "Hello, it is good to C you!\n"
     ]
    }
   ],
   "source": [
    "## Exercise: Program to print \"Hello, it is good to C you!\"\n",
    "\n",
    "print('Hello, it is good to C you!')"
   ]
  },
  {
   "cell_type": "code",
   "execution_count": 2,
   "metadata": {},
   "outputs": [
    {
     "name": "stdout",
     "output_type": "stream",
     "text": [
      "  ___\n",
      " ('v')\n",
      "((___))\n",
      " ^   ^\n"
     ]
    }
   ],
   "source": [
    "## Exercise: Program to print a chicken\n",
    "\n",
    "print(\"  ___\")\n",
    "print(\" ('v')\")\n",
    "print(\"((___))\")\n",
    "print(\" ^   ^\")"
   ]
  },
  {
   "cell_type": "code",
   "execution_count": 3,
   "metadata": {},
   "outputs": [
    {
     "name": "stdout",
     "output_type": "stream",
     "text": [
      " /\\   ___\n",
      "<__\\_/   \\\n",
      "    \\_  /  _\\\n",
      "      \\_\\ / \\\n",
      "        //   \\\n",
      "      =//     \\==\n"
     ]
    }
   ],
   "source": [
    "## Exercise: Program to print a kangaroo\n",
    "\n",
    "print(\" /\\   ___\")\n",
    "print(\"<__\\_/   \\\\\")\n",
    "print(\"    \\_  /  _\\\\\")\n",
    "print(\"      \\_\\ / \\\\\")\n",
    "print(\"        //   \\\\\")\n",
    "print(\"      =//     \\==\")"
   ]
  },
  {
   "cell_type": "markdown",
   "metadata": {},
   "source": [
    "# Week 2 Lab"
   ]
  },
  {
   "cell_type": "code",
   "execution_count": null,
   "metadata": {},
   "outputs": [],
   "source": [
    "## Exercise: Don't be so negative!\n",
    "\n",
    "# Scan an input and convert it to an integer\n",
    "result = int(input(\" \"))\n",
    "# If statement for the cases and printing out output\n",
    "if result > 0:\n",
    "    print(\"You have entered a positive number\")\n",
    "elif result < 0:\n",
    "    print(\"Don't be so negative!\")\n",
    "else:\n",
    "    print(\"You have entered zero\")"
   ]
  },
  {
   "cell_type": "code",
   "execution_count": null,
   "metadata": {},
   "outputs": [],
   "source": [
    "## Exercise: Addition\n",
    "\n",
    "# Scan 2 inputs and convert them to integers\n",
    "var1, var2 = input(\"Enter two numbers here: \").split()\n",
    "var1 = int(var1)\n",
    "var2 = int(var2)\n",
    "# Print out the statement\n",
    "print(\"%d + %d = %d\" %(var1,var2,var1+var2))"
   ]
  },
  {
   "cell_type": "code",
   "execution_count": null,
   "metadata": {},
   "outputs": [],
   "source": [
    "## Exercise: Numbers to Words\n",
    "\n",
    "# Scan an input and convert it to an integer\n",
    "result = int(input(\"Please enter an integer: \"))\n",
    "# Shortcut to save some space\n",
    "print(\"You entered \", end = '')\n",
    "# If statement for the cases\n",
    "if result > 5:\n",
    "    print(\"a number greater than five.\")\n",
    "elif result < 1:\n",
    "    print(\"a number less than one.\")\n",
    "elif result == 1:\n",
    "    print(\"one.\")\n",
    "elif result == 2:\n",
    "    print(\"two.\")\n",
    "elif result == 3:\n",
    "    print(\"three.\")\n",
    "elif result == 4:\n",
    "    print(\"four.\")\n",
    "elif result == 5:\n",
    "    print(\"five.\")"
   ]
  },
  {
   "cell_type": "code",
   "execution_count": null,
   "metadata": {},
   "outputs": [],
   "source": [
    "## Exercise: Leap Year Calculator\n",
    "\n",
    "# Scan an input and convert it to an integer\n",
    "result = int(input(\"Enter year: \"))\n",
    "\n",
    "# If statement for conditions as outlined in Wikipedia\n",
    "if result % 4 == 0:\n",
    "    if result % 100 == 0 and result % 400 != 0:\n",
    "        print(\"%d is not a leap year.\" %result)\n",
    "    else:\n",
    "        print(\"%d is a leap year.\" %result)\n",
    "else:\n",
    "    print(\"%d is not a leap year.\" %result)"
   ]
  },
  {
   "cell_type": "code",
   "execution_count": null,
   "metadata": {},
   "outputs": [],
   "source": [
    "## Challenge Exercise: Dice Range\n",
    "\n",
    "# Scan 2 inputs and convert them to integers\n",
    "side = int(input(\"Enter the number of sides on your dice: \"))\n",
    "dice = int(input(\"Enter the number of dice being rolled: \"))\n",
    "# Check dice are valid\n",
    "if side <= 0 or dice <= 0:\n",
    "    print(\"These dice will not produce a range.\")\n",
    "else:\n",
    "    # Variables for range and print result\n",
    "    min = dice\n",
    "    max = side*dice\n",
    "    print(\"Your dice range is %d to %d.\" %(min,max))\n",
    "    # Variable for average and print that\n",
    "    avg = (min+max)/2\n",
    "    print(\"The average value is %f\" %avg)"
   ]
  },
  {
   "cell_type": "code",
   "execution_count": null,
   "metadata": {},
   "outputs": [],
   "source": [
    "## Challenge Exercise: Word Addition\n",
    "\n",
    "# 2 inputs and convert them to integers\n",
    "int1, int2 = input(\"Please enter two integers: \").split()\n",
    "int1, int2 = [int(int1), int(int2)]\n",
    "\n",
    "# Looking at int1\n",
    "if -10 <= int1 < 0:\n",
    "    print(\"negative \", end='')\n",
    "# Cases where int1 is between -10 to 10    \n",
    "if int1 == 0:\n",
    "    print(\"zero\", end='')\n",
    "elif int1 == 1 or int1 == -1:\n",
    "    print(\"one\", end='')\n",
    "elif int1 == 2 or int1 == -2:\n",
    "    print(\"two\", end='')\n",
    "elif int1 == 3 or int1 == -3:\n",
    "    print(\"three\", end='')\n",
    "elif int1 == 4 or int1 == -4:\n",
    "    print(\"four\", end='')\n",
    "elif int1 == 5 or int1 == -5:\n",
    "    print(\"five\", end='')\n",
    "elif int1 == 6 or int1 == -6:\n",
    "    print(\"six\", end='')\n",
    "elif int1 == 7 or int1 == -7:\n",
    "    print(\"seven\", end='')\n",
    "elif int1 == 8 or int1 == -8:\n",
    "    print(\"eight\", end='')\n",
    "elif int1 == 9 or int1 == -9:\n",
    "    print(\"nine\", end='')\n",
    "elif int1 == 10 or int1 == -10:\n",
    "    print(\"ten\", end='')\n",
    "else:\n",
    "    print(\"%d\" %int1)\n",
    "\n",
    "# Print the + sign\n",
    "print(\" + \", end='')\n",
    "\n",
    "# Looking at int2\n",
    "if -10 <= int2 < 0:\n",
    "    print(\"negative \", end='')\n",
    "# Cases where int2 is between -10 to 10    \n",
    "if int2 == 0:\n",
    "    print(\"zero\", end='')\n",
    "elif int2 == 1 or int2 == -1:\n",
    "    print(\"one\", end='')\n",
    "elif int2 == 2 or int2 == -2:\n",
    "    print(\"two\", end='')\n",
    "elif int2 == 3 or int2 == -3:\n",
    "    print(\"three\", end='')\n",
    "elif int2 == 4 or int2 == -4:\n",
    "    print(\"four\", end='')\n",
    "elif int2 == 5 or int2 == -5:\n",
    "    print(\"five\", end='')\n",
    "elif int2 == 6 or int2 == -6:\n",
    "    print(\"six\", end='')\n",
    "elif int2 == 7 or int2 == -7:\n",
    "    print(\"seven\", end='')\n",
    "elif int2 == 8 or int2 == -8:\n",
    "    print(\"eight\", end='')\n",
    "elif int2 == 9 or int2 == -9:\n",
    "    print(\"nine\", end='')\n",
    "elif int2 == 10 or int2 == -10:\n",
    "    print(\"ten\", end='')\n",
    "else:\n",
    "    print(\"%d\" %int2)\n",
    "\n",
    "# Print the = sign\n",
    "print(\" = \", end='')\n",
    "    \n",
    "# Looking at result\n",
    "result = int1 + int2\n",
    "if -10 <= result < 0:\n",
    "    print(\"negative \", end='')\n",
    "# Cases where result is between -10 to 10    \n",
    "if result == 0:\n",
    "    print(\"zero\", end='')\n",
    "elif result == 1 or result == -1:\n",
    "    print(\"one\", end='')\n",
    "elif result == 2 or result == -2:\n",
    "    print(\"two\", end='')\n",
    "elif result == 3 or result == -3:\n",
    "    print(\"three\", end='')\n",
    "elif result == 4 or result == -4:\n",
    "    print(\"four\", end='')\n",
    "elif result == 5 or result == -5:\n",
    "    print(\"five\", end='')\n",
    "elif result == 6 or result == -6:\n",
    "    print(\"six\", end='')\n",
    "elif result == 7 or result == -7:\n",
    "    print(\"seven\", end='')\n",
    "elif result == 8 or result == -8:\n",
    "    print(\"eight\", end='')\n",
    "elif result == 9 or result == -9:\n",
    "    print(\"nine\", end='')\n",
    "elif result == 10 or result == -10:\n",
    "    print(\"ten\", end='')\n",
    "else:\n",
    "    print(\"%d\" %result)"
   ]
  },
  {
   "cell_type": "code",
   "execution_count": null,
   "metadata": {
    "scrolled": true
   },
   "outputs": [],
   "source": [
    "## Challenge Exercise: Easter\n",
    "# Hint: You have to convert all the letters into integers\n",
    "# otherwise they're considered floating\n",
    "\n",
    "# Input and convert to integer\n",
    "year = int(input(\"Enter year: \"))\n",
    "# Copy Paste from algorithm\n",
    "a = int(year % 19)\n",
    "b = int(year / 100)\n",
    "c = int(year % 100)\n",
    "d = int(b / 4)\n",
    "e = int(b % 4)\n",
    "f = int((b + 8) / 25)\n",
    "g = int((b - f + 1) / 3)\n",
    "h = int((19*a + b - d - g + 15) % 30)\n",
    "i = int(c / 4)\n",
    "k = int(c % 4)\n",
    "l = int((32 + 2*e + 2*i - h - k) % 7)\n",
    "m = int((a + 11*h + 22*l) / 451)\n",
    "EasterMonth = (h + l - 7*m + 114) / 31\n",
    "p = (h + l - 7*m + 114) % 31\n",
    "EasterDate = p + 1\n",
    "# Print statements\n",
    "EasterMonth = int(EasterMonth)\n",
    "print(\"Easter is \", end='')\n",
    "if EasterMonth == 3:\n",
    "    print(\"March \", end='')\n",
    "elif EasterMonth == 4:\n",
    "    print(\"April \", end='')\n",
    "print(\"%d in %d\" %(EasterDate,year))"
   ]
  },
  {
   "cell_type": "code",
   "execution_count": null,
   "metadata": {},
   "outputs": [],
   "source": []
  }
 ],
 "metadata": {
  "kernelspec": {
   "display_name": "Python 3",
   "language": "python",
   "name": "python3"
  },
  "language_info": {
   "codemirror_mode": {
    "name": "ipython",
    "version": 3
   },
   "file_extension": ".py",
   "mimetype": "text/x-python",
   "name": "python",
   "nbconvert_exporter": "python",
   "pygments_lexer": "ipython3",
   "version": "3.7.4"
  }
 },
 "nbformat": 4,
 "nbformat_minor": 2
}
