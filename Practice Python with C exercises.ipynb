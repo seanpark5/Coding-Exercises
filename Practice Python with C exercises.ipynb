{
 "cells": [
  {
   "cell_type": "markdown",
   "metadata": {},
   "source": [
    "# Week 1 Lab"
   ]
  },
  {
   "cell_type": "code",
   "execution_count": null,
   "metadata": {},
   "outputs": [],
   "source": [
    "## Exercise: Program to print \"Hello, it is good to C you!\"\n",
    "\n",
    "print('Hello, it is good to C you!')"
   ]
  },
  {
   "cell_type": "code",
   "execution_count": 5,
   "metadata": {},
   "outputs": [
    {
     "name": "stdout",
     "output_type": "stream",
     "text": [
      "  ___\n",
      " ('v')\n",
      "((___))\n",
      " ^   ^\n"
     ]
    }
   ],
   "source": [
    "## Exercse: Program to print a chicken\n",
    "\n",
    "print(\"  ___\")\n",
    "print(\" ('v')\")\n",
    "print(\"((___))\")\n",
    "print(\" ^   ^\")"
   ]
  },
  {
   "cell_type": "code",
   "execution_count": 50,
   "metadata": {},
   "outputs": [
    {
     "name": "stdout",
     "output_type": "stream",
     "text": [
      " /\\   ___\n",
      "<__\\_/   \\\n",
      "    \\_  /  _\\\n",
      "      \\_\\ / \\\n",
      "        //   \\\n",
      "      =//     \\==\n"
     ]
    }
   ],
   "source": [
    "## Exercise: Program to print a kangaroo\n",
    "\n",
    "print(\" /\\   ___\")\n",
    "print(\"<__\\_/   \\\\\")\n",
    "print(\"    \\_  /  _\\\\\")\n",
    "print(\"      \\_\\ / \\\\\")\n",
    "print(\"        //   \\\\\")\n",
    "print(\"      =//     \\==\")"
   ]
  },
  {
   "cell_type": "markdown",
   "metadata": {},
   "source": [
    "# Week 2 Lab"
   ]
  },
  {
   "cell_type": "code",
   "execution_count": null,
   "metadata": {},
   "outputs": [],
   "source": [
    "## Exercise: Don't be so negative!\n",
    "\n",
    "# Scan an input and convert it to an integer\n",
    "result = int(input(\" \"))\n",
    "# If statement for the cases and printing out output\n",
    "if result > 0:\n",
    "    print(\"You have entered a positive number\")\n",
    "elif result < 0:\n",
    "    print(\"Don't be so negative!\")\n",
    "else:\n",
    "    print(\"You have entered zero\")"
   ]
  },
  {
   "cell_type": "code",
   "execution_count": null,
   "metadata": {},
   "outputs": [],
   "source": [
    "## Exercise: Addition\n",
    "\n",
    "# Scan 2 inputs and convert them to integers\n",
    "var1, var2 = input(\"Enter two numbers here: \").split()\n",
    "var1 = int(var1)\n",
    "var2 = int(var2)\n",
    "# Print out the statement\n",
    "print(\"%d + %d = %d\" %(var1,var2,var1+var2))"
   ]
  },
  {
   "cell_type": "code",
   "execution_count": 14,
   "metadata": {},
   "outputs": [
    {
     "name": "stdout",
     "output_type": "stream",
     "text": [
      "Please enter an integer: 1000\n",
      "You entered a number greater than five.\n"
     ]
    }
   ],
   "source": [
    "## Exercise: Numbers to Words\n",
    "\n",
    "# Scan an input and convert it to an integer\n",
    "result = int(input(\"Please enter an integer: \"))\n",
    "# Shortcut to save some space\n",
    "print(\"You entered \", end = '')\n",
    "# If statement for the cases\n",
    "if result > 5:\n",
    "    print(\"a number greater than five.\")\n",
    "elif result < 1:\n",
    "    print(\"a number less than one.\")\n",
    "elif result == 1:\n",
    "    print(\"one.\")\n",
    "elif result == 2:\n",
    "    print(\"two.\")\n",
    "elif result == 3:\n",
    "    print(\"three.\")\n",
    "elif result == 4:\n",
    "    print(\"four.\")\n",
    "elif result == 5:\n",
    "    print(\"five.\")"
   ]
  },
  {
   "cell_type": "code",
   "execution_count": 30,
   "metadata": {},
   "outputs": [
    {
     "name": "stdout",
     "output_type": "stream",
     "text": [
      "Enter year: 2000\n",
      "2000 is a leap year.\n"
     ]
    }
   ],
   "source": [
    "## Exercise: Leap Year Calculator\n",
    "\n",
    "# Scan an input and convert it to an integer\n",
    "result = int(input(\"Enter year: \"))\n",
    "\n",
    "# If statement for conditions as outlined in Wikipedia\n",
    "if result % 4 == 0:\n",
    "    if result % 100 == 0 and result % 400 != 0:\n",
    "        print(\"%d is not a leap year.\" %result)\n",
    "    else:\n",
    "        print(\"%d is a leap year.\" %result)\n",
    "else:\n",
    "    print(\"%d is not a leap year.\" %result)"
   ]
  },
  {
   "cell_type": "code",
   "execution_count": 58,
   "metadata": {},
   "outputs": [
    {
     "name": "stdout",
     "output_type": "stream",
     "text": [
      "Enter the number of sides on your dice: 6\n",
      "Enter the number of dice being rolled: 0\n",
      "These dice will not produce a range.\n"
     ]
    }
   ],
   "source": [
    "## Challenge Exercise: Dice Range\n",
    "\n",
    "# Scan 2 inputs and convert them to integers\n",
    "side = int(input(\"Enter the number of sides on your dice: \"))\n",
    "dice = int(input(\"Enter the number of dice being rolled: \"))\n",
    "# Check dice are valid\n",
    "if side <= 0 or dice <= 0:\n",
    "    print(\"These dice will not produce a range.\")\n",
    "else:\n",
    "    # Variables for range and print result\n",
    "    min = dice\n",
    "    max = side*dice\n",
    "    print(\"Your dice range is %d to %d.\" %(min,max))\n",
    "    # Variable for average and print that\n",
    "    avg = (min+max)/2\n",
    "    print(\"The average value is %f\" %avg)"
   ]
  },
  {
   "cell_type": "code",
   "execution_count": null,
   "metadata": {},
   "outputs": [],
   "source": [
    "## Challenge Exercise: Word Addition\n",
    "\n",
    "# 2 inputs and convert them to integers\n"
   ]
  }
 ],
 "metadata": {
  "kernelspec": {
   "display_name": "Python 3",
   "language": "python",
   "name": "python3"
  },
  "language_info": {
   "codemirror_mode": {
    "name": "ipython",
    "version": 3
   },
   "file_extension": ".py",
   "mimetype": "text/x-python",
   "name": "python",
   "nbconvert_exporter": "python",
   "pygments_lexer": "ipython3",
   "version": "3.7.4"
  }
 },
 "nbformat": 4,
 "nbformat_minor": 2
}
